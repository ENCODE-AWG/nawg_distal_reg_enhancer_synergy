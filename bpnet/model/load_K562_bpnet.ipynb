{
 "cells": [
  {
   "cell_type": "markdown",
   "metadata": {
    "colab_type": "text",
    "id": "view-in-github"
   },
   "source": [
    "<a href=\"https://colab.research.google.com/github/kundajelab/locusselect/blob/master/examples/regression%20on%20200%20bp%20genome%20bins.ipynb\" target=\"_parent\"><img src=\"https://colab.research.google.com/assets/colab-badge.svg\" alt=\"Open In Colab\"/></a>"
   ]
  },
  {
   "cell_type": "code",
   "execution_count": 3,
   "metadata": {
    "ExecuteTime": {
     "end_time": "2020-06-08T20:44:29.978980Z",
     "start_time": "2020-06-08T20:44:29.121034Z"
    },
    "colab": {},
    "colab_type": "code",
    "id": "PlqtDJn5vLs4"
   },
   "outputs": [],
   "source": [
    "%reload_ext autoreload\n",
    "%autoreload 2\n",
    "from keras.utils.generic_utils import get_custom_objects\n",
    "from keras.models import load_model \n"
   ]
  },
  {
   "cell_type": "code",
   "execution_count": 4,
   "metadata": {
    "ExecuteTime": {
     "end_time": "2020-06-08T20:44:30.080337Z",
     "start_time": "2020-06-08T20:44:29.981877Z"
    }
   },
   "outputs": [],
   "source": [
    "from custom_losses import * \n",
    "from metrics import * "
   ]
  },
  {
   "cell_type": "code",
   "execution_count": 6,
   "metadata": {
    "ExecuteTime": {
     "end_time": "2020-06-08T20:44:38.819143Z",
     "start_time": "2020-06-08T20:44:38.698986Z"
    }
   },
   "outputs": [],
   "source": [
    "custom_objects={\"recall\":recall,\n",
    "                \"sensitivity\":recall,\n",
    "                \"specificity\":specificity,\n",
    "                \"fpr\":fpr,\n",
    "                \"fnr\":fnr,\n",
    "                \"precision\":precision,\n",
    "                \"f1\":f1,\n",
    "                \"MultichannelMultinomialNLL\":MultichannelMultinomialNLL}\n",
    "get_custom_objects().update(custom_objects)\n"
   ]
  },
  {
   "cell_type": "code",
   "execution_count": 7,
   "metadata": {
    "ExecuteTime": {
     "end_time": "2020-06-08T20:45:34.446234Z",
     "start_time": "2020-06-08T20:45:26.563427Z"
    }
   },
   "outputs": [],
   "source": [
    "model=load_model(\"/data/nawg_distal_reg/bpnet/K562_DNASE/K562.profile.peaks.only.bpnet.withdups.1234seed.250counts.0.hdf5\")"
   ]
  },
  {
   "cell_type": "code",
   "execution_count": 8,
   "metadata": {
    "ExecuteTime": {
     "end_time": "2020-06-08T20:45:40.438125Z",
     "start_time": "2020-06-08T20:45:39.598967Z"
    }
   },
   "outputs": [
    {
     "name": "stdout",
     "output_type": "stream",
     "text": [
      "Model: \"model_1\"\n",
      "__________________________________________________________________________________________________\n",
      "Layer (type)                    Output Shape         Param #     Connected to                     \n",
      "==================================================================================================\n",
      "sequence (InputLayer)           (None, 1346, 4)      0                                            \n",
      "__________________________________________________________________________________________________\n",
      "1st_conv (Conv1D)               (None, 1326, 500)    42500       sequence[0][0]                   \n",
      "__________________________________________________________________________________________________\n",
      "1stconv-crop_1th_dconv (Croppin (None, 1322, 500)    0           1st_conv[0][0]                   \n",
      "__________________________________________________________________________________________________\n",
      "2ndconv (Conv1D)                (None, 1322, 500)    750500      1st_conv[0][0]                   \n",
      "__________________________________________________________________________________________________\n",
      "add_2 (Add)                     (None, 1322, 500)    0           1stconv-crop_1th_dconv[0][0]     \n",
      "                                                                 2ndconv[0][0]                    \n",
      "__________________________________________________________________________________________________\n",
      "1stconv-crop_2th_dconv (Croppin (None, 1314, 500)    0           1stconv-crop_1th_dconv[0][0]     \n",
      "__________________________________________________________________________________________________\n",
      "2ndconv-crop_2th_dconv (Croppin (None, 1314, 500)    0           2ndconv[0][0]                    \n",
      "__________________________________________________________________________________________________\n",
      "3rdconv (Conv1D)                (None, 1314, 500)    750500      add_2[0][0]                      \n",
      "__________________________________________________________________________________________________\n",
      "add_3 (Add)                     (None, 1314, 500)    0           1stconv-crop_2th_dconv[0][0]     \n",
      "                                                                 2ndconv-crop_2th_dconv[0][0]     \n",
      "                                                                 3rdconv[0][0]                    \n",
      "__________________________________________________________________________________________________\n",
      "1stconv-crop_3th_dconv (Croppin (None, 1298, 500)    0           1stconv-crop_2th_dconv[0][0]     \n",
      "__________________________________________________________________________________________________\n",
      "2ndconv-crop_3th_dconv (Croppin (None, 1298, 500)    0           2ndconv-crop_2th_dconv[0][0]     \n",
      "__________________________________________________________________________________________________\n",
      "3rdconv-crop_3th_dconv (Croppin (None, 1298, 500)    0           3rdconv[0][0]                    \n",
      "__________________________________________________________________________________________________\n",
      "4thconv (Conv1D)                (None, 1298, 500)    750500      add_3[0][0]                      \n",
      "__________________________________________________________________________________________________\n",
      "add_4 (Add)                     (None, 1298, 500)    0           1stconv-crop_3th_dconv[0][0]     \n",
      "                                                                 2ndconv-crop_3th_dconv[0][0]     \n",
      "                                                                 3rdconv-crop_3th_dconv[0][0]     \n",
      "                                                                 4thconv[0][0]                    \n",
      "__________________________________________________________________________________________________\n",
      "1stconv-crop_4th_dconv (Croppin (None, 1266, 500)    0           1stconv-crop_3th_dconv[0][0]     \n",
      "__________________________________________________________________________________________________\n",
      "2ndconv-crop_4th_dconv (Croppin (None, 1266, 500)    0           2ndconv-crop_3th_dconv[0][0]     \n",
      "__________________________________________________________________________________________________\n",
      "3rdconv-crop_4th_dconv (Croppin (None, 1266, 500)    0           3rdconv-crop_3th_dconv[0][0]     \n",
      "__________________________________________________________________________________________________\n",
      "4thconv-crop_4th_dconv (Croppin (None, 1266, 500)    0           4thconv[0][0]                    \n",
      "__________________________________________________________________________________________________\n",
      "5thconv (Conv1D)                (None, 1266, 500)    750500      add_4[0][0]                      \n",
      "__________________________________________________________________________________________________\n",
      "add_5 (Add)                     (None, 1266, 500)    0           1stconv-crop_4th_dconv[0][0]     \n",
      "                                                                 2ndconv-crop_4th_dconv[0][0]     \n",
      "                                                                 3rdconv-crop_4th_dconv[0][0]     \n",
      "                                                                 4thconv-crop_4th_dconv[0][0]     \n",
      "                                                                 5thconv[0][0]                    \n",
      "__________________________________________________________________________________________________\n",
      "1stconv-crop_5th_dconv (Croppin (None, 1202, 500)    0           1stconv-crop_4th_dconv[0][0]     \n",
      "__________________________________________________________________________________________________\n",
      "2ndconv-crop_5th_dconv (Croppin (None, 1202, 500)    0           2ndconv-crop_4th_dconv[0][0]     \n",
      "__________________________________________________________________________________________________\n",
      "3rdconv-crop_5th_dconv (Croppin (None, 1202, 500)    0           3rdconv-crop_4th_dconv[0][0]     \n",
      "__________________________________________________________________________________________________\n",
      "4thconv-crop_5th_dconv (Croppin (None, 1202, 500)    0           4thconv-crop_4th_dconv[0][0]     \n",
      "__________________________________________________________________________________________________\n",
      "5thconv-crop_5th_dconv (Croppin (None, 1202, 500)    0           5thconv[0][0]                    \n",
      "__________________________________________________________________________________________________\n",
      "6thconv (Conv1D)                (None, 1202, 500)    750500      add_5[0][0]                      \n",
      "__________________________________________________________________________________________________\n",
      "add_6 (Add)                     (None, 1202, 500)    0           1stconv-crop_5th_dconv[0][0]     \n",
      "                                                                 2ndconv-crop_5th_dconv[0][0]     \n",
      "                                                                 3rdconv-crop_5th_dconv[0][0]     \n",
      "                                                                 4thconv-crop_5th_dconv[0][0]     \n",
      "                                                                 5thconv-crop_5th_dconv[0][0]     \n",
      "                                                                 6thconv[0][0]                    \n",
      "__________________________________________________________________________________________________\n",
      "1stconv-crop_6th_dconv (Croppin (None, 1074, 500)    0           1stconv-crop_5th_dconv[0][0]     \n",
      "__________________________________________________________________________________________________\n",
      "2ndconv-crop_6th_dconv (Croppin (None, 1074, 500)    0           2ndconv-crop_5th_dconv[0][0]     \n",
      "__________________________________________________________________________________________________\n",
      "3rdconv-crop_6th_dconv (Croppin (None, 1074, 500)    0           3rdconv-crop_5th_dconv[0][0]     \n",
      "__________________________________________________________________________________________________\n",
      "4thconv-crop_6th_dconv (Croppin (None, 1074, 500)    0           4thconv-crop_5th_dconv[0][0]     \n",
      "__________________________________________________________________________________________________\n",
      "5thconv-crop_6th_dconv (Croppin (None, 1074, 500)    0           5thconv-crop_5th_dconv[0][0]     \n",
      "__________________________________________________________________________________________________\n",
      "6thconv-crop_6th_dconv (Croppin (None, 1074, 500)    0           6thconv[0][0]                    \n",
      "__________________________________________________________________________________________________\n",
      "7thconv (Conv1D)                (None, 1074, 500)    750500      add_6[0][0]                      \n",
      "__________________________________________________________________________________________________\n",
      "combined_conv (Add)             (None, 1074, 500)    0           1stconv-crop_6th_dconv[0][0]     \n",
      "                                                                 2ndconv-crop_6th_dconv[0][0]     \n",
      "                                                                 3rdconv-crop_6th_dconv[0][0]     \n",
      "                                                                 4thconv-crop_6th_dconv[0][0]     \n",
      "                                                                 5thconv-crop_6th_dconv[0][0]     \n",
      "                                                                 6thconv-crop_6th_dconv[0][0]     \n",
      "                                                                 7thconv[0][0]                    \n",
      "__________________________________________________________________________________________________\n",
      "profile_out_prebias (Conv1D)    (None, 1000, 1)      37501       combined_conv[0][0]              \n",
      "__________________________________________________________________________________________________\n",
      "prof_out_crop2match_output (Cro (None, 1000, 1)      0           profile_out_prebias[0][0]        \n",
      "__________________________________________________________________________________________________\n",
      "gap (GlobalAveragePooling1D)    (None, 500)          0           combined_conv[0][0]              \n",
      "__________________________________________________________________________________________________\n",
      "profile_predictions (Conv1D)    (None, 1000, 1)      2           prof_out_crop2match_output[0][0] \n",
      "__________________________________________________________________________________________________\n",
      "logcount_predictions (Dense)    (None, 1)            501         gap[0][0]                        \n",
      "==================================================================================================\n",
      "Total params: 4,583,504\n",
      "Trainable params: 4,583,504\n",
      "Non-trainable params: 0\n",
      "__________________________________________________________________________________________________\n",
      "None\n"
     ]
    }
   ],
   "source": [
    "print(model.summary())"
   ]
  },
  {
   "cell_type": "code",
   "execution_count": null,
   "metadata": {},
   "outputs": [],
   "source": []
  }
 ],
 "metadata": {
  "colab": {
   "include_colab_link": true,
   "name": "regression on 200 bp genome bins.ipynb",
   "provenance": [],
   "version": "0.3.2"
  },
  "kernelspec": {
   "display_name": "Python 3",
   "language": "python",
   "name": "python3"
  },
  "language_info": {
   "codemirror_mode": {
    "name": "ipython",
    "version": 3
   },
   "file_extension": ".py",
   "mimetype": "text/x-python",
   "name": "python",
   "nbconvert_exporter": "python",
   "pygments_lexer": "ipython3",
   "version": "3.7.6"
  }
 },
 "nbformat": 4,
 "nbformat_minor": 1
}
